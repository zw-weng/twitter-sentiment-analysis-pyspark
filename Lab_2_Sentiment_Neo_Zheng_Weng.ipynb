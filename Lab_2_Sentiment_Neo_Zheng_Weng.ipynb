{
  "nbformat": 4,
  "nbformat_minor": 0,
  "metadata": {
    "colab": {
      "provenance": []
    },
    "kernelspec": {
      "name": "python3",
      "display_name": "Python 3"
    },
    "language_info": {
      "name": "python"
    }
  },
  "cells": [
    {
      "cell_type": "markdown",
      "source": [
        "# Lab 2: Sentiment Analysis in Apache Spark\n",
        "\n",
        "*   NEO ZHENG WENG A22EC0093\n",
        "*   [Youtube Tutorial](https://www.youtube.com/watch?v=D4Z-r69Xj2Q)\n",
        "\n"
      ],
      "metadata": {
        "id": "4QQCT4axXjCJ"
      }
    },
    {
      "cell_type": "code",
      "execution_count": 1,
      "metadata": {
        "id": "iKRy2br1jpUz"
      },
      "outputs": [],
      "source": [
        "from pyspark.sql import SparkSession, DataFrame\n",
        "from pyspark.sql.functions import when, col\n",
        "\n",
        "from pyspark.ml import Pipeline\n",
        "from pyspark.ml.feature import Tokenizer, StopWordsRemover, CountVectorizer, StringIndexer\n",
        "\n",
        "from pyspark.ml.classification import LogisticRegression\n",
        "from pyspark.ml.evaluation import MulticlassClassificationEvaluator"
      ]
    },
    {
      "cell_type": "code",
      "source": [
        "# Create SparkSession\n",
        "spark = SparkSession.builder \\\n",
        "    .appName(\"Sentiment Analysis\") \\\n",
        "    .master(\"local[*]\") \\\n",
        "    .getOrCreate()"
      ],
      "metadata": {
        "id": "PvbaxPdTnOEb"
      },
      "execution_count": 2,
      "outputs": []
    },
    {
      "cell_type": "code",
      "source": [
        "# Load data\n",
        "data = spark.read \\\n",
        "    .option(\"header\", False) \\\n",
        "    .option(\"inferSchema\", True) \\\n",
        "    .csv(\"/content/twitter_training.csv\")"
      ],
      "metadata": {
        "id": "oZYFua_lniXI"
      },
      "execution_count": 3,
      "outputs": []
    },
    {
      "cell_type": "code",
      "source": [
        "data.show()"
      ],
      "metadata": {
        "colab": {
          "base_uri": "https://localhost:8080/"
        },
        "id": "wvM3aiLfrGR6",
        "outputId": "fe44f24f-5b3a-4522-819d-6f9e856ffb86"
      },
      "execution_count": 4,
      "outputs": [
        {
          "output_type": "stream",
          "name": "stdout",
          "text": [
            "+----+-----------+--------+--------------------+\n",
            "| _c0|        _c1|     _c2|                 _c3|\n",
            "+----+-----------+--------+--------------------+\n",
            "|2401|Borderlands|Positive|im getting on bor...|\n",
            "|2401|Borderlands|Positive|I am coming to th...|\n",
            "|2401|Borderlands|Positive|im getting on bor...|\n",
            "|2401|Borderlands|Positive|im coming on bord...|\n",
            "|2401|Borderlands|Positive|im getting on bor...|\n",
            "|2401|Borderlands|Positive|im getting into b...|\n",
            "|2402|Borderlands|Positive|So I spent a few ...|\n",
            "|2402|Borderlands|Positive|So I spent a coup...|\n",
            "|2402|Borderlands|Positive|So I spent a few ...|\n",
            "|2402|Borderlands|Positive|So I spent a few ...|\n",
            "|2402|Borderlands|Positive|2010 So I spent a...|\n",
            "|2402|Borderlands|Positive|                 was|\n",
            "|2403|Borderlands| Neutral|Rock-Hard La Varl...|\n",
            "|2403|Borderlands| Neutral|Rock-Hard La Varl...|\n",
            "|2403|Borderlands| Neutral|Rock-Hard La Varl...|\n",
            "|2403|Borderlands| Neutral|Rock-Hard La Vita...|\n",
            "|2403|Borderlands| Neutral|Live Rock - Hard ...|\n",
            "|2403|Borderlands| Neutral|I-Hard like me, R...|\n",
            "|2404|Borderlands|Positive|that was the firs...|\n",
            "|2404|Borderlands|Positive|this was the firs...|\n",
            "+----+-----------+--------+--------------------+\n",
            "only showing top 20 rows\n",
            "\n"
          ]
        }
      ]
    },
    {
      "cell_type": "code",
      "source": [
        "# Clean data\n",
        "# Clean the data\n",
        "data = (\n",
        "    data\n",
        "    .drop(\"_c0\", \"_c1\")  # Drop unnecessary columns\n",
        "    .filter(\n",
        "        (col(\"_c2\").isNotNull()) & (col(\"_c2\") != '') &  # Remove rows where sentiment is null or empty\n",
        "        (col(\"_c3\").isNotNull()) & (col(\"_c3\") != '')  # Remove rows where text is null or empty\n",
        "    )\n",
        "    .withColumnRenamed(\"_c2\", \"sentiment\")  # Rename _c2 to \"sentiment\"\n",
        "    .withColumnRenamed(\"_c3\", \"text\")      # Rename _c3 to \"text\"\n",
        ")\n",
        "\n",
        "data.printSchema()\n",
        "data.show()"
      ],
      "metadata": {
        "colab": {
          "base_uri": "https://localhost:8080/"
        },
        "id": "BxoFUiFTsaR6",
        "outputId": "1695ccb2-be17-440a-c1af-dc57d31d27cf"
      },
      "execution_count": 5,
      "outputs": [
        {
          "output_type": "stream",
          "name": "stdout",
          "text": [
            "root\n",
            " |-- sentiment: string (nullable = true)\n",
            " |-- text: string (nullable = true)\n",
            "\n",
            "+---------+--------------------+\n",
            "|sentiment|                text|\n",
            "+---------+--------------------+\n",
            "| Positive|im getting on bor...|\n",
            "| Positive|I am coming to th...|\n",
            "| Positive|im getting on bor...|\n",
            "| Positive|im coming on bord...|\n",
            "| Positive|im getting on bor...|\n",
            "| Positive|im getting into b...|\n",
            "| Positive|So I spent a few ...|\n",
            "| Positive|So I spent a coup...|\n",
            "| Positive|So I spent a few ...|\n",
            "| Positive|So I spent a few ...|\n",
            "| Positive|2010 So I spent a...|\n",
            "| Positive|                 was|\n",
            "|  Neutral|Rock-Hard La Varl...|\n",
            "|  Neutral|Rock-Hard La Varl...|\n",
            "|  Neutral|Rock-Hard La Varl...|\n",
            "|  Neutral|Rock-Hard La Vita...|\n",
            "|  Neutral|Live Rock - Hard ...|\n",
            "|  Neutral|I-Hard like me, R...|\n",
            "| Positive|that was the firs...|\n",
            "| Positive|this was the firs...|\n",
            "+---------+--------------------+\n",
            "only showing top 20 rows\n",
            "\n"
          ]
        }
      ]
    },
    {
      "cell_type": "code",
      "source": [
        "# Use StringIndexer to convert the sentiment column into numeric labels\n",
        "indexer = StringIndexer(inputCol=\"sentiment\", outputCol=\"label\")\n",
        "\n",
        "# Fit and transform the data to create the 'label' column\n",
        "data = indexer.fit(data).transform(data)\n",
        "\n",
        "data.printSchema()\n",
        "data.show()"
      ],
      "metadata": {
        "colab": {
          "base_uri": "https://localhost:8080/"
        },
        "id": "NZ88SiVS_Bg8",
        "outputId": "5e0fd232-555c-4844-e2e7-1872a321a405"
      },
      "execution_count": 6,
      "outputs": [
        {
          "output_type": "stream",
          "name": "stdout",
          "text": [
            "root\n",
            " |-- sentiment: string (nullable = true)\n",
            " |-- text: string (nullable = true)\n",
            " |-- label: double (nullable = false)\n",
            "\n",
            "+---------+--------------------+-----+\n",
            "|sentiment|                text|label|\n",
            "+---------+--------------------+-----+\n",
            "| Positive|im getting on bor...|  1.0|\n",
            "| Positive|I am coming to th...|  1.0|\n",
            "| Positive|im getting on bor...|  1.0|\n",
            "| Positive|im coming on bord...|  1.0|\n",
            "| Positive|im getting on bor...|  1.0|\n",
            "| Positive|im getting into b...|  1.0|\n",
            "| Positive|So I spent a few ...|  1.0|\n",
            "| Positive|So I spent a coup...|  1.0|\n",
            "| Positive|So I spent a few ...|  1.0|\n",
            "| Positive|So I spent a few ...|  1.0|\n",
            "| Positive|2010 So I spent a...|  1.0|\n",
            "| Positive|                 was|  1.0|\n",
            "|  Neutral|Rock-Hard La Varl...|  2.0|\n",
            "|  Neutral|Rock-Hard La Varl...|  2.0|\n",
            "|  Neutral|Rock-Hard La Varl...|  2.0|\n",
            "|  Neutral|Rock-Hard La Vita...|  2.0|\n",
            "|  Neutral|Live Rock - Hard ...|  2.0|\n",
            "|  Neutral|I-Hard like me, R...|  2.0|\n",
            "| Positive|that was the firs...|  1.0|\n",
            "| Positive|this was the firs...|  1.0|\n",
            "+---------+--------------------+-----+\n",
            "only showing top 20 rows\n",
            "\n"
          ]
        }
      ]
    },
    {
      "cell_type": "code",
      "source": [
        "# Manually adjust the numeric labels after transformation\n",
        "data = data.withColumn(\n",
        "    \"label\",\n",
        "    when(data[\"sentiment\"] == \"Negative\", 0)\n",
        "    .when(data[\"sentiment\"] == \"Neutral\", 1)\n",
        "    .when(data[\"sentiment\"] == \"Positive\", 2)\n",
        "    .when(data[\"sentiment\"] == \"Irrelevant\", 3)\n",
        "    .otherwise(data[\"label\"])  # Keep the original label if not matching\n",
        ")\n",
        "\n",
        "data.show()"
      ],
      "metadata": {
        "colab": {
          "base_uri": "https://localhost:8080/"
        },
        "id": "70NjBeT1Qsx0",
        "outputId": "2bd0703d-e6e2-4851-93ae-ec63efbd8eaa"
      },
      "execution_count": 7,
      "outputs": [
        {
          "output_type": "stream",
          "name": "stdout",
          "text": [
            "+---------+--------------------+-----+\n",
            "|sentiment|                text|label|\n",
            "+---------+--------------------+-----+\n",
            "| Positive|im getting on bor...|  2.0|\n",
            "| Positive|I am coming to th...|  2.0|\n",
            "| Positive|im getting on bor...|  2.0|\n",
            "| Positive|im coming on bord...|  2.0|\n",
            "| Positive|im getting on bor...|  2.0|\n",
            "| Positive|im getting into b...|  2.0|\n",
            "| Positive|So I spent a few ...|  2.0|\n",
            "| Positive|So I spent a coup...|  2.0|\n",
            "| Positive|So I spent a few ...|  2.0|\n",
            "| Positive|So I spent a few ...|  2.0|\n",
            "| Positive|2010 So I spent a...|  2.0|\n",
            "| Positive|                 was|  2.0|\n",
            "|  Neutral|Rock-Hard La Varl...|  1.0|\n",
            "|  Neutral|Rock-Hard La Varl...|  1.0|\n",
            "|  Neutral|Rock-Hard La Varl...|  1.0|\n",
            "|  Neutral|Rock-Hard La Vita...|  1.0|\n",
            "|  Neutral|Live Rock - Hard ...|  1.0|\n",
            "|  Neutral|I-Hard like me, R...|  1.0|\n",
            "| Positive|that was the firs...|  2.0|\n",
            "| Positive|this was the firs...|  2.0|\n",
            "+---------+--------------------+-----+\n",
            "only showing top 20 rows\n",
            "\n"
          ]
        }
      ]
    },
    {
      "cell_type": "code",
      "source": [
        "# create a Tokenizer that reads “text” and outputs an array column “words”\n",
        "tokenizer = Tokenizer(inputCol=\"text\", outputCol=\"words\")\n",
        "\n",
        "# apply it to DataFrame\n",
        "data = tokenizer.transform(data)\n",
        "\n",
        "# now `data` has a new column “words” containing the tokenized text\n",
        "data.select(\"text\", \"words\").show(truncate=False)"
      ],
      "metadata": {
        "colab": {
          "base_uri": "https://localhost:8080/"
        },
        "id": "D9Tbn6WeuD03",
        "outputId": "17c07b82-9059-4857-b553-7a4be1d167fe"
      },
      "execution_count": 8,
      "outputs": [
        {
          "output_type": "stream",
          "name": "stdout",
          "text": [
            "+-----------------------------------------------------------------------------------------------------------------------------------------------------------------------------------------------------------------------------------------------------------------------------------------------------+------------------------------------------------------------------------------------------------------------------------------------------------------------------------------------------------------------------------------------------------------------------------------------------------------------------------------------------------------------+\n",
            "|text                                                                                                                                                                                                                                                                                                 |words                                                                                                                                                                                                                                                                                                                                                       |\n",
            "+-----------------------------------------------------------------------------------------------------------------------------------------------------------------------------------------------------------------------------------------------------------------------------------------------------+------------------------------------------------------------------------------------------------------------------------------------------------------------------------------------------------------------------------------------------------------------------------------------------------------------------------------------------------------------+\n",
            "|im getting on borderlands and i will murder you all ,                                                                                                                                                                                                                                                |[im, getting, on, borderlands, and, i, will, murder, you, all, ,]                                                                                                                                                                                                                                                                                           |\n",
            "|I am coming to the borders and I will kill you all,                                                                                                                                                                                                                                                  |[i, am, coming, to, the, borders, and, i, will, kill, you, all,]                                                                                                                                                                                                                                                                                            |\n",
            "|im getting on borderlands and i will kill you all,                                                                                                                                                                                                                                                   |[im, getting, on, borderlands, and, i, will, kill, you, all,]                                                                                                                                                                                                                                                                                               |\n",
            "|im coming on borderlands and i will murder you all,                                                                                                                                                                                                                                                  |[im, coming, on, borderlands, and, i, will, murder, you, all,]                                                                                                                                                                                                                                                                                              |\n",
            "|im getting on borderlands 2 and i will murder you me all,                                                                                                                                                                                                                                            |[im, getting, on, borderlands, 2, and, i, will, murder, you, me, all,]                                                                                                                                                                                                                                                                                      |\n",
            "|im getting into borderlands and i can murder you all,                                                                                                                                                                                                                                                |[im, getting, into, borderlands, and, i, can, murder, you, all,]                                                                                                                                                                                                                                                                                            |\n",
            "|So I spent a few hours making something for fun. . . If you don't know I am a HUGE @Borderlands fan and Maya is one of my favorite characters. So I decided to make myself a wallpaper for my PC. . Here is the original image versus the creation I made :) Enjoy! pic.twitter.com/mLsI5wf9Jg       |[so, i, spent, a, few, hours, making, something, for, fun., ., ., if, you, don't, know, i, am, a, huge, @borderlands, fan, and, maya, is, one, of, my, favorite, characters., so, i, decided, to, make, myself, a, wallpaper, for, my, pc., ., here, is, the, original, image, versus, the, creation, i, made, :), enjoy!, pic.twitter.com/mlsi5wf9jg]      |\n",
            "|So I spent a couple of hours doing something for fun... If you don't know that I'm a huge @ Borderlands fan and Maya is one of my favorite characters, I decided to make a wallpaper for my PC.. Here's the original picture compared to the creation I made:) Have fun! pic.twitter.com / mLsI5wf9Jg|[so, i, spent, a, couple, of, hours, doing, something, for, fun..., if, you, don't, know, that, i'm, a, huge, @, borderlands, fan, and, maya, is, one, of, my, favorite, characters,, i, decided, to, make, a, wallpaper, for, my, pc.., here's, the, original, picture, compared, to, the, creation, i, made:), have, fun!, pic.twitter.com, /, mlsi5wf9jg]|\n",
            "|So I spent a few hours doing something for fun... If you don't know I'm a HUGE @ Borderlands fan and Maya is one of my favorite characters.                                                                                                                                                          |[so, i, spent, a, few, hours, doing, something, for, fun..., if, you, don't, know, i'm, a, huge, @, borderlands, fan, and, maya, is, one, of, my, favorite, characters.]                                                                                                                                                                                    |\n",
            "|So I spent a few hours making something for fun. . . If you don't know I am a HUGE RhandlerR fan and Maya is one of my favorite characters. So I decided to make myself a wallpaper for my PC. . Here is the original image versus the creation I made :) Enjoy! pic.twitter.com/mLsI5wf9Jg          |[so, i, spent, a, few, hours, making, something, for, fun., ., ., if, you, don't, know, i, am, a, huge, rhandlerr, fan, and, maya, is, one, of, my, favorite, characters., so, i, decided, to, make, myself, a, wallpaper, for, my, pc., ., here, is, the, original, image, versus, the, creation, i, made, :), enjoy!, pic.twitter.com/mlsi5wf9jg]         |\n",
            "|2010 So I spent a few hours making something for fun. . . If you don't know I am a HUGE RhandlerR fan and Maya is one of my favorite characters. So I decided to make myself a wallpaper for my PC. . Here is the original image versus the creation I made :) Enjoy! pic.twitter.com/mLsI5wf9Jg     |[2010, so, i, spent, a, few, hours, making, something, for, fun., ., ., if, you, don't, know, i, am, a, huge, rhandlerr, fan, and, maya, is, one, of, my, favorite, characters., so, i, decided, to, make, myself, a, wallpaper, for, my, pc., ., here, is, the, original, image, versus, the, creation, i, made, :), enjoy!, pic.twitter.com/mlsi5wf9jg]   |\n",
            "|was                                                                                                                                                                                                                                                                                                  |[was]                                                                                                                                                                                                                                                                                                                                                       |\n",
            "|Rock-Hard La Varlope, RARE & POWERFUL, HANDSOME JACKPOT, Borderlands 3 (Xbox) dlvr.it/RMTrgF                                                                                                                                                                                                         |[rock-hard, la, varlope,, rare, &, powerful,, handsome, jackpot,, borderlands, 3, (xbox), dlvr.it/rmtrgf]                                                                                                                                                                                                                                                   |\n",
            "|Rock-Hard La Varlope, RARE & POWERFUL, HANDSOME JACKPOT, Borderlands 3 (Xbox) dlvr.it / RMTrgF                                                                                                                                                                                                       |[rock-hard, la, varlope,, rare, &, powerful,, handsome, jackpot,, borderlands, 3, (xbox), dlvr.it, /, rmtrgf]                                                                                                                                                                                                                                               |\n",
            "|Rock-Hard La Varlope, RARE & POWERFUL, HANDSOME JACKPOT, Borderlands 3 (Xbox) dfr.it / RMTrgF                                                                                                                                                                                                        |[rock-hard, la, varlope,, rare, &, powerful,, handsome, jackpot,, borderlands, 3, (xbox), dfr.it, /, rmtrgf]                                                                                                                                                                                                                                                |\n",
            "|Rock-Hard La Vita, RARE BUT POWERFUL, HANDSOME JACKPOT, Borderlands 1 (Xbox) dlvr.it/RMTrgF                                                                                                                                                                                                          |[rock-hard, la, vita,, rare, but, powerful,, handsome, jackpot,, borderlands, 1, (xbox), dlvr.it/rmtrgf]                                                                                                                                                                                                                                                    |\n",
            "|Live Rock - Hard music La la Varlope, RARE & the POWERFUL, Live HANDSOME i JACKPOT, Borderlands 3 ( Sega Xbox ) dlvr. From it / e RMTrgF                                                                                                                                                             |[live, rock, -, hard, music, la, la, varlope,, rare, &, the, powerful,, live, handsome, i, jackpot,, borderlands, 3, (, sega, xbox, ), dlvr., from, it, /, e, rmtrgf]                                                                                                                                                                                       |\n",
            "|I-Hard like me, RARE LONDON DE, HANDSOME 2011, Borderlands 3 (Xbox) dlvr.it/RMTrgF                                                                                                                                                                                                                   |[i-hard, like, me,, rare, london, de,, handsome, 2011,, borderlands, 3, (xbox), dlvr.it/rmtrgf]                                                                                                                                                                                                                                                             |\n",
            "|that was the first borderlands session in a long time where i actually had a really satisfying combat experience. i got some really good kills                                                                                                                                                       |[that, was, the, first, borderlands, session, in, a, long, time, where, i, actually, had, a, really, satisfying, combat, experience., i, got, some, really, good, kills]                                                                                                                                                                                    |\n",
            "|this was the first Borderlands session in a long time where i actually had a really satisfying fighting experience. i got some really good kills                                                                                                                                                     |[this, was, the, first, borderlands, session, in, a, long, time, where, i, actually, had, a, really, satisfying, fighting, experience., i, got, some, really, good, kills]                                                                                                                                                                                  |\n",
            "+-----------------------------------------------------------------------------------------------------------------------------------------------------------------------------------------------------------------------------------------------------------------------------------------------------+------------------------------------------------------------------------------------------------------------------------------------------------------------------------------------------------------------------------------------------------------------------------------------------------------------------------------------------------------------+\n",
            "only showing top 20 rows\n",
            "\n"
          ]
        }
      ]
    },
    {
      "cell_type": "code",
      "source": [
        "# Create a StopWordsRemover that reads “words” and writes “filtered”\n",
        "remover = StopWordsRemover(inputCol=\"words\", outputCol=\"filtered\")\n",
        "\n",
        "# Apply it to your DataFrame\n",
        "data = remover.transform(data)\n",
        "\n",
        "# Now `data` has a new column “filtered” (tokens minus English stopwords)\n",
        "data.select(\"words\", \"filtered\").show(truncate=False)"
      ],
      "metadata": {
        "colab": {
          "base_uri": "https://localhost:8080/"
        },
        "id": "rVxoV9rnwzaR",
        "outputId": "155b8aab-1e2b-475c-b913-bd00c7c3783f"
      },
      "execution_count": 9,
      "outputs": [
        {
          "output_type": "stream",
          "name": "stdout",
          "text": [
            "+------------------------------------------------------------------------------------------------------------------------------------------------------------------------------------------------------------------------------------------------------------------------------------------------------------------------------------------------------------+------------------------------------------------------------------------------------------------------------------------------------------------------------------------------------------------------------------------------------+\n",
            "|words                                                                                                                                                                                                                                                                                                                                                       |filtered                                                                                                                                                                                                                            |\n",
            "+------------------------------------------------------------------------------------------------------------------------------------------------------------------------------------------------------------------------------------------------------------------------------------------------------------------------------------------------------------+------------------------------------------------------------------------------------------------------------------------------------------------------------------------------------------------------------------------------------+\n",
            "|[im, getting, on, borderlands, and, i, will, murder, you, all, ,]                                                                                                                                                                                                                                                                                           |[im, getting, borderlands, murder, ,]                                                                                                                                                                                               |\n",
            "|[i, am, coming, to, the, borders, and, i, will, kill, you, all,]                                                                                                                                                                                                                                                                                            |[coming, borders, kill, all,]                                                                                                                                                                                                       |\n",
            "|[im, getting, on, borderlands, and, i, will, kill, you, all,]                                                                                                                                                                                                                                                                                               |[im, getting, borderlands, kill, all,]                                                                                                                                                                                              |\n",
            "|[im, coming, on, borderlands, and, i, will, murder, you, all,]                                                                                                                                                                                                                                                                                              |[im, coming, borderlands, murder, all,]                                                                                                                                                                                             |\n",
            "|[im, getting, on, borderlands, 2, and, i, will, murder, you, me, all,]                                                                                                                                                                                                                                                                                      |[im, getting, borderlands, 2, murder, all,]                                                                                                                                                                                         |\n",
            "|[im, getting, into, borderlands, and, i, can, murder, you, all,]                                                                                                                                                                                                                                                                                            |[im, getting, borderlands, murder, all,]                                                                                                                                                                                            |\n",
            "|[so, i, spent, a, few, hours, making, something, for, fun., ., ., if, you, don't, know, i, am, a, huge, @borderlands, fan, and, maya, is, one, of, my, favorite, characters., so, i, decided, to, make, myself, a, wallpaper, for, my, pc., ., here, is, the, original, image, versus, the, creation, i, made, :), enjoy!, pic.twitter.com/mlsi5wf9jg]      |[spent, hours, making, something, fun., ., ., know, huge, @borderlands, fan, maya, one, favorite, characters., decided, make, wallpaper, pc., ., original, image, versus, creation, made, :), enjoy!, pic.twitter.com/mlsi5wf9jg]   |\n",
            "|[so, i, spent, a, couple, of, hours, doing, something, for, fun..., if, you, don't, know, that, i'm, a, huge, @, borderlands, fan, and, maya, is, one, of, my, favorite, characters,, i, decided, to, make, a, wallpaper, for, my, pc.., here's, the, original, picture, compared, to, the, creation, i, made:), have, fun!, pic.twitter.com, /, mlsi5wf9jg]|[spent, couple, hours, something, fun..., know, huge, @, borderlands, fan, maya, one, favorite, characters,, decided, make, wallpaper, pc.., original, picture, compared, creation, made:), fun!, pic.twitter.com, /, mlsi5wf9jg]   |\n",
            "|[so, i, spent, a, few, hours, doing, something, for, fun..., if, you, don't, know, i'm, a, huge, @, borderlands, fan, and, maya, is, one, of, my, favorite, characters.]                                                                                                                                                                                    |[spent, hours, something, fun..., know, huge, @, borderlands, fan, maya, one, favorite, characters.]                                                                                                                                |\n",
            "|[so, i, spent, a, few, hours, making, something, for, fun., ., ., if, you, don't, know, i, am, a, huge, rhandlerr, fan, and, maya, is, one, of, my, favorite, characters., so, i, decided, to, make, myself, a, wallpaper, for, my, pc., ., here, is, the, original, image, versus, the, creation, i, made, :), enjoy!, pic.twitter.com/mlsi5wf9jg]         |[spent, hours, making, something, fun., ., ., know, huge, rhandlerr, fan, maya, one, favorite, characters., decided, make, wallpaper, pc., ., original, image, versus, creation, made, :), enjoy!, pic.twitter.com/mlsi5wf9jg]      |\n",
            "|[2010, so, i, spent, a, few, hours, making, something, for, fun., ., ., if, you, don't, know, i, am, a, huge, rhandlerr, fan, and, maya, is, one, of, my, favorite, characters., so, i, decided, to, make, myself, a, wallpaper, for, my, pc., ., here, is, the, original, image, versus, the, creation, i, made, :), enjoy!, pic.twitter.com/mlsi5wf9jg]   |[2010, spent, hours, making, something, fun., ., ., know, huge, rhandlerr, fan, maya, one, favorite, characters., decided, make, wallpaper, pc., ., original, image, versus, creation, made, :), enjoy!, pic.twitter.com/mlsi5wf9jg]|\n",
            "|[was]                                                                                                                                                                                                                                                                                                                                                       |[]                                                                                                                                                                                                                                  |\n",
            "|[rock-hard, la, varlope,, rare, &, powerful,, handsome, jackpot,, borderlands, 3, (xbox), dlvr.it/rmtrgf]                                                                                                                                                                                                                                                   |[rock-hard, la, varlope,, rare, &, powerful,, handsome, jackpot,, borderlands, 3, (xbox), dlvr.it/rmtrgf]                                                                                                                           |\n",
            "|[rock-hard, la, varlope,, rare, &, powerful,, handsome, jackpot,, borderlands, 3, (xbox), dlvr.it, /, rmtrgf]                                                                                                                                                                                                                                               |[rock-hard, la, varlope,, rare, &, powerful,, handsome, jackpot,, borderlands, 3, (xbox), dlvr.it, /, rmtrgf]                                                                                                                       |\n",
            "|[rock-hard, la, varlope,, rare, &, powerful,, handsome, jackpot,, borderlands, 3, (xbox), dfr.it, /, rmtrgf]                                                                                                                                                                                                                                                |[rock-hard, la, varlope,, rare, &, powerful,, handsome, jackpot,, borderlands, 3, (xbox), dfr.it, /, rmtrgf]                                                                                                                        |\n",
            "|[rock-hard, la, vita,, rare, but, powerful,, handsome, jackpot,, borderlands, 1, (xbox), dlvr.it/rmtrgf]                                                                                                                                                                                                                                                    |[rock-hard, la, vita,, rare, powerful,, handsome, jackpot,, borderlands, 1, (xbox), dlvr.it/rmtrgf]                                                                                                                                 |\n",
            "|[live, rock, -, hard, music, la, la, varlope,, rare, &, the, powerful,, live, handsome, i, jackpot,, borderlands, 3, (, sega, xbox, ), dlvr., from, it, /, e, rmtrgf]                                                                                                                                                                                       |[live, rock, -, hard, music, la, la, varlope,, rare, &, powerful,, live, handsome, jackpot,, borderlands, 3, (, sega, xbox, ), dlvr., /, e, rmtrgf]                                                                                 |\n",
            "|[i-hard, like, me,, rare, london, de,, handsome, 2011,, borderlands, 3, (xbox), dlvr.it/rmtrgf]                                                                                                                                                                                                                                                             |[i-hard, like, me,, rare, london, de,, handsome, 2011,, borderlands, 3, (xbox), dlvr.it/rmtrgf]                                                                                                                                     |\n",
            "|[that, was, the, first, borderlands, session, in, a, long, time, where, i, actually, had, a, really, satisfying, combat, experience., i, got, some, really, good, kills]                                                                                                                                                                                    |[first, borderlands, session, long, time, actually, really, satisfying, combat, experience., got, really, good, kills]                                                                                                              |\n",
            "|[this, was, the, first, borderlands, session, in, a, long, time, where, i, actually, had, a, really, satisfying, fighting, experience., i, got, some, really, good, kills]                                                                                                                                                                                  |[first, borderlands, session, long, time, actually, really, satisfying, fighting, experience., got, really, good, kills]                                                                                                            |\n",
            "+------------------------------------------------------------------------------------------------------------------------------------------------------------------------------------------------------------------------------------------------------------------------------------------------------------------------------------------------------------+------------------------------------------------------------------------------------------------------------------------------------------------------------------------------------------------------------------------------------+\n",
            "only showing top 20 rows\n",
            "\n"
          ]
        }
      ]
    },
    {
      "cell_type": "code",
      "source": [
        "# Create a CountVectorizer that reads “filtered” and writes “features”\n",
        "vectorizer = CountVectorizer(inputCol=\"filtered\", outputCol=\"features\")\n",
        "\n",
        "# Fit on DataFrame (this learns the vocabulary from “filtered” tokens)\n",
        "vector_model = vectorizer.fit(data)\n",
        "\n",
        "# Transform the DataFrame: add a “features” column (sparse vector)\n",
        "data = vector_model.transform(data)\n",
        "\n",
        "data.select(\"filtered\", \"features\").show(truncate=False)"
      ],
      "metadata": {
        "colab": {
          "base_uri": "https://localhost:8080/"
        },
        "id": "xI1uL3uixrqP",
        "outputId": "8ffca3e3-7333-47c4-ebdd-209c45f55d04"
      },
      "execution_count": 10,
      "outputs": [
        {
          "output_type": "stream",
          "name": "stdout",
          "text": [
            "+------------------------------------------------------------------------------------------------------------------------------------------------------------------------------------------------------------------------------------+-----------------------------------------------------------------------------------------------------------------------------------------------------------------------------------------------------------------------------------------+\n",
            "|filtered                                                                                                                                                                                                                            |features                                                                                                                                                                                                                                 |\n",
            "+------------------------------------------------------------------------------------------------------------------------------------------------------------------------------------------------------------------------------------+-----------------------------------------------------------------------------------------------------------------------------------------------------------------------------------------------------------------------------------------+\n",
            "|[im, getting, borderlands, murder, ,]                                                                                                                                                                                               |(71100,[64,65,175,1125,1601],[1.0,1.0,1.0,1.0,1.0])                                                                                                                                                                                      |\n",
            "|[coming, borders, kill, all,]                                                                                                                                                                                                       |(71100,[291,329,1912,11461],[1.0,1.0,1.0,1.0])                                                                                                                                                                                           |\n",
            "|[im, getting, borderlands, kill, all,]                                                                                                                                                                                              |(71100,[64,65,175,329,1912],[1.0,1.0,1.0,1.0,1.0])                                                                                                                                                                                       |\n",
            "|[im, coming, borderlands, murder, all,]                                                                                                                                                                                             |(71100,[64,175,291,1601,1912],[1.0,1.0,1.0,1.0,1.0])                                                                                                                                                                                     |\n",
            "|[im, getting, borderlands, 2, murder, all,]                                                                                                                                                                                         |(71100,[11,64,65,175,1601,1912],[1.0,1.0,1.0,1.0,1.0,1.0])                                                                                                                                                                               |\n",
            "|[im, getting, borderlands, murder, all,]                                                                                                                                                                                            |(71100,[64,65,175,1601,1912],[1.0,1.0,1.0,1.0,1.0])                                                                                                                                                                                      |\n",
            "|[spent, hours, making, something, fun., ., ., know, huge, @borderlands, fan, maya, one, favorite, characters., decided, make, wallpaper, pc., ., original, image, versus, creation, made, :), enjoy!, pic.twitter.com/mlsi5wf9jg]   |(71100,[2,8,43,45,108,134,189,190,257,330,447,575,580,620,657,846,870,1491,1852,4148,4307,4355,5494,9782,11287,30576],[3.0,1.0,1.0,1.0,1.0,1.0,1.0,1.0,1.0,1.0,1.0,1.0,1.0,1.0,1.0,1.0,1.0,1.0,1.0,1.0,1.0,1.0,1.0,1.0,1.0,1.0])         |\n",
            "|[spent, couple, hours, something, fun..., know, huge, @, borderlands, fan, maya, one, favorite, characters,, decided, make, wallpaper, pc.., original, picture, compared, creation, made:), fun!, pic.twitter.com, /, mlsi5wf9jg]   |(71100,[0,1,8,43,45,64,128,134,190,257,330,447,575,580,657,835,1339,1417,1539,3745,4355,6604,9782,11287,24119,61256,69237],[1.0,1.0,1.0,1.0,1.0,1.0,1.0,1.0,1.0,1.0,1.0,1.0,1.0,1.0,1.0,1.0,1.0,1.0,1.0,1.0,1.0,1.0,1.0,1.0,1.0,1.0,1.0])|\n",
            "|[spent, hours, something, fun..., know, huge, @, borderlands, fan, maya, one, favorite, characters.]                                                                                                                                |(71100,[1,8,45,64,134,190,257,330,447,657,3745,4148,4355],[1.0,1.0,1.0,1.0,1.0,1.0,1.0,1.0,1.0,1.0,1.0,1.0,1.0])                                                                                                                         |\n",
            "|[spent, hours, making, something, fun., ., ., know, huge, rhandlerr, fan, maya, one, favorite, characters., decided, make, wallpaper, pc., ., original, image, versus, creation, made, :), enjoy!, pic.twitter.com/mlsi5wf9jg]      |(71100,[2,8,34,43,45,108,134,189,190,257,330,447,575,580,620,657,870,1491,1852,4148,4307,4355,5494,9782,11287,30576],[3.0,1.0,1.0,1.0,1.0,1.0,1.0,1.0,1.0,1.0,1.0,1.0,1.0,1.0,1.0,1.0,1.0,1.0,1.0,1.0,1.0,1.0,1.0,1.0,1.0,1.0])          |\n",
            "|[2010, spent, hours, making, something, fun., ., ., know, huge, rhandlerr, fan, maya, one, favorite, characters., decided, make, wallpaper, pc., ., original, image, versus, creation, made, :), enjoy!, pic.twitter.com/mlsi5wf9jg]|(71100,[2,8,34,43,45,108,134,189,190,257,330,447,575,580,620,657,870,1491,1852,2234,4148,4307,4355,5494,9782,11287,30576],[3.0,1.0,1.0,1.0,1.0,1.0,1.0,1.0,1.0,1.0,1.0,1.0,1.0,1.0,1.0,1.0,1.0,1.0,1.0,1.0,1.0,1.0,1.0,1.0,1.0,1.0,1.0]) |\n",
            "|[]                                                                                                                                                                                                                                  |(71100,[],[])                                                                                                                                                                                                                            |\n",
            "|[rock-hard, la, varlope,, rare, &, powerful,, handsome, jackpot,, borderlands, 3, (xbox), dlvr.it/rmtrgf]                                                                                                                           |(71100,[13,30,64,1788,1964,3811,7410,18768,20896,22819,23037,27370],[1.0,1.0,1.0,1.0,1.0,1.0,1.0,1.0,1.0,1.0,1.0,1.0])                                                                                                                   |\n",
            "|[rock-hard, la, varlope,, rare, &, powerful,, handsome, jackpot,, borderlands, 3, (xbox), dlvr.it, /, rmtrgf]                                                                                                                       |(71100,[0,13,30,64,1788,1937,1964,3811,7410,18768,20896,22819,23037,30612],[1.0,1.0,1.0,1.0,1.0,1.0,1.0,1.0,1.0,1.0,1.0,1.0,1.0,1.0])                                                                                                    |\n",
            "|[rock-hard, la, varlope,, rare, &, powerful,, handsome, jackpot,, borderlands, 3, (xbox), dfr.it, /, rmtrgf]                                                                                                                        |(71100,[0,13,30,64,1788,1964,3811,7410,11485,18768,20896,22819,23037,30612],[1.0,1.0,1.0,1.0,1.0,1.0,1.0,1.0,1.0,1.0,1.0,1.0,1.0,1.0])                                                                                                   |\n",
            "|[rock-hard, la, vita,, rare, powerful,, handsome, jackpot,, borderlands, 1, (xbox), dlvr.it/rmtrgf]                                                                                                                                 |(71100,[58,64,1788,1964,3811,7410,18768,20896,23037,27370,62229],[1.0,1.0,1.0,1.0,1.0,1.0,1.0,1.0,1.0,1.0,1.0])                                                                                                                          |\n",
            "|[live, rock, -, hard, music, la, la, varlope,, rare, &, powerful,, live, handsome, jackpot,, borderlands, 3, (, sega, xbox, ), dlvr., /, e, rmtrgf]                                                                                 |(71100,[0,6,13,30,35,64,104,204,231,298,403,449,1788,1819,1964,2030,3811,5277,7410,20896,22819,30612],[1.0,1.0,1.0,1.0,1.0,1.0,2.0,1.0,1.0,1.0,1.0,1.0,2.0,1.0,1.0,1.0,1.0,1.0,1.0,1.0,1.0,1.0])                                         |\n",
            "|[i-hard, like, me,, rare, london, de,, handsome, 2011,, borderlands, 3, (xbox), dlvr.it/rmtrgf]                                                                                                                                     |(71100,[5,30,64,599,1964,3811,4276,11491,18768,27370,41149,58050],[1.0,1.0,1.0,1.0,1.0,1.0,1.0,1.0,1.0,1.0,1.0,1.0])                                                                                                                     |\n",
            "|[first, borderlands, session, long, time, actually, really, satisfying, combat, experience., got, really, good, kills]                                                                                                              |(71100,[9,15,23,26,40,64,88,188,683,1777,1990,2195,3872],[2.0,1.0,1.0,1.0,1.0,1.0,1.0,1.0,1.0,1.0,1.0,1.0,1.0])                                                                                                                          |\n",
            "|[first, borderlands, session, long, time, actually, really, satisfying, fighting, experience., got, really, good, kills]                                                                                                            |(71100,[9,15,23,26,40,64,88,188,683,1713,1777,1990,3872],[2.0,1.0,1.0,1.0,1.0,1.0,1.0,1.0,1.0,1.0,1.0,1.0,1.0])                                                                                                                          |\n",
            "+------------------------------------------------------------------------------------------------------------------------------------------------------------------------------------------------------------------------------------+-----------------------------------------------------------------------------------------------------------------------------------------------------------------------------------------------------------------------------------------+\n",
            "only showing top 20 rows\n",
            "\n"
          ]
        }
      ]
    },
    {
      "cell_type": "code",
      "source": [
        "# Split 8/2 training and testing data\n",
        "training_data, test_data = data.randomSplit([0.8, 0.2], seed=42)"
      ],
      "metadata": {
        "id": "J2Z3fPVz6PUW"
      },
      "execution_count": 11,
      "outputs": []
    },
    {
      "cell_type": "code",
      "source": [
        "# Create a LogisticRegression object\n",
        "lr = LogisticRegression(labelCol=\"label\", featuresCol=\"features\")\n",
        "\n",
        "# Train the model on the training data\n",
        "model = lr.fit(training_data)\n",
        "\n",
        "# Use the trained model to make predictions on the test data\n",
        "predictions = model.transform(test_data)"
      ],
      "metadata": {
        "id": "laidElwU67ha"
      },
      "execution_count": 12,
      "outputs": []
    },
    {
      "cell_type": "code",
      "source": [
        "# Create the evaluator\n",
        "evaluator = MulticlassClassificationEvaluator(\n",
        "    labelCol=\"label\",           # True label column\n",
        "    predictionCol=\"prediction\", # Predicted label column\n",
        "    metricName=\"accuracy\"       # Metric we want to evaluate (accuracy)\n",
        ")\n",
        "\n",
        "# Evaluate the model's accuracy\n",
        "accuracy = evaluator.evaluate(predictions)\n",
        "\n",
        "print(f\"Test Set Accuracy = {accuracy:.4f}\")"
      ],
      "metadata": {
        "colab": {
          "base_uri": "https://localhost:8080/"
        },
        "id": "Xpg5go8sKux0",
        "outputId": "55f4f17e-0f30-4995-e3f7-d3435edd75de"
      },
      "execution_count": 13,
      "outputs": [
        {
          "output_type": "stream",
          "name": "stdout",
          "text": [
            "Test Set Accuracy = 0.8403\n"
          ]
        }
      ]
    },
    {
      "cell_type": "code",
      "source": [
        "# Show the predicted data\n",
        "predictions.select(\"text\", \"label\", \"prediction\").show(10, truncate=False)"
      ],
      "metadata": {
        "colab": {
          "base_uri": "https://localhost:8080/"
        },
        "id": "SypZgeXDL3Zf",
        "outputId": "60a39fb1-7cc7-4403-8170-90ff110f08c3"
      },
      "execution_count": 14,
      "outputs": [
        {
          "output_type": "stream",
          "name": "stdout",
          "text": [
            "+-------------------------------------------------------------------------------------------------------+-----+----------+\n",
            "|text                                                                                                   |label|prediction|\n",
            "+-------------------------------------------------------------------------------------------------------+-----+----------+\n",
            "|                                                                                                       |3.0  |2.0       |\n",
            "|                                                                                                       |3.0  |2.0       |\n",
            "|                                                                                                       |3.0  |2.0       |\n",
            "|                                                                                                       |3.0  |2.0       |\n",
            "|                                                                                                       |3.0  |2.0       |\n",
            "|                                                                                                       |3.0  |2.0       |\n",
            "| . .                                                                                                   |3.0  |1.0       |\n",
            "| . . store.playstation.com/                                                                            |3.0  |1.0       |\n",
            "| . Whenever my Teammate Cook Nade For Enemy and Ended Up Knocking Me 🤷. ‍.  pic.twitter.com/6UGGUzIM22|3.0  |3.0       |\n",
            "| . Why people say this challenge so hard.. Did it with out realizing.TWICE.                            |3.0  |3.0       |\n",
            "+-------------------------------------------------------------------------------------------------------+-----+----------+\n",
            "only showing top 10 rows\n",
            "\n"
          ]
        }
      ]
    },
    {
      "cell_type": "code",
      "source": [
        "# Create confusion matrix by grouping by 'label' and 'prediction'\n",
        "confusion_matrix = predictions.groupBy(\"label\", \"prediction\").count()\n",
        "\n",
        "confusion_matrix.show()"
      ],
      "metadata": {
        "colab": {
          "base_uri": "https://localhost:8080/"
        },
        "id": "sj3sTpesWKYw",
        "outputId": "31c7e1ec-333d-4955-c891-6c0ed30237ce"
      },
      "execution_count": 16,
      "outputs": [
        {
          "output_type": "stream",
          "name": "stdout",
          "text": [
            "+-----+----------+-----+\n",
            "|label|prediction|count|\n",
            "+-----+----------+-----+\n",
            "|  2.0|       0.0|  235|\n",
            "|  1.0|       1.0| 2879|\n",
            "|  3.0|       2.0|  206|\n",
            "|  0.0|       1.0|  167|\n",
            "|  1.0|       0.0|  216|\n",
            "|  2.0|       2.0| 3651|\n",
            "|  3.0|       1.0|  119|\n",
            "|  2.0|       3.0|  160|\n",
            "|  2.0|       1.0|  164|\n",
            "|  1.0|       2.0|  337|\n",
            "|  0.0|       0.0| 3876|\n",
            "|  1.0|       3.0|  161|\n",
            "|  0.0|       2.0|  306|\n",
            "|  3.0|       3.0| 2014|\n",
            "|  0.0|       3.0|  145|\n",
            "|  3.0|       0.0|  144|\n",
            "+-----+----------+-----+\n",
            "\n"
          ]
        }
      ]
    },
    {
      "cell_type": "code",
      "source": [
        "# Convert the confusion matrix to a Pandas DataFrame\n",
        "conf_matrix_pdf = confusion_matrix.toPandas()\n",
        "\n",
        "# Pivot the DataFrame to get it in the form of a matrix\n",
        "conf_matrix_pivot = conf_matrix_pdf.pivot(index='label', columns='prediction', values='count').fillna(0)\n",
        "\n",
        "print(conf_matrix_pivot)"
      ],
      "metadata": {
        "colab": {
          "base_uri": "https://localhost:8080/"
        },
        "id": "_Ex7cs6NWfMa",
        "outputId": "edb97c54-9925-4ccd-f5b7-8a2f5b8d0412"
      },
      "execution_count": 17,
      "outputs": [
        {
          "output_type": "stream",
          "name": "stdout",
          "text": [
            "prediction   0.0   1.0   2.0   3.0\n",
            "label                             \n",
            "0.0         3876   167   306   145\n",
            "1.0          216  2879   337   161\n",
            "2.0          235   164  3651   160\n",
            "3.0          144   119   206  2014\n"
          ]
        }
      ]
    },
    {
      "cell_type": "code",
      "source": [
        "import matplotlib.pyplot as plt\n",
        "import seaborn as sns\n",
        "\n",
        "# Create a heatmap for the confusion matrix\n",
        "plt.figure(figsize=(8, 6))\n",
        "sns.heatmap(conf_matrix_pivot, annot=True, fmt=\"d\", cmap=\"Blues\", cbar=False,\n",
        "            xticklabels=[\"Predicted Negative\", \"Predicted Neutral\", \"Predicted Positive\", \"Predicted Irrelevant\"],\n",
        "            yticklabels=[\"True Negative\", \"True Neutral\", \"True Positive\", \"True Irrelevant\"])\n",
        "\n",
        "plt.title(\"Confusion Matrix\")\n",
        "plt.xlabel(\"Predicted\")\n",
        "plt.ylabel(\"Actual\")\n",
        "plt.show()"
      ],
      "metadata": {
        "colab": {
          "base_uri": "https://localhost:8080/",
          "height": 564
        },
        "id": "rnMjAFavW2G2",
        "outputId": "bfb00e0b-3ac5-4cb1-d28b-b8e74f46191b"
      },
      "execution_count": 18,
      "outputs": [
        {
          "output_type": "display_data",
          "data": {
            "text/plain": [
              "<Figure size 800x600 with 1 Axes>"
            ],
            "image/png": "[encoded data removed]"
          },
          "metadata": {}
        }
      ]
    },
    {
      "cell_type": "code",
      "source": [
        "# Save the trained model\n",
        "model.write().overwrite().save(\"sentiment_model\")"
      ],
      "metadata": {
        "id": "Teqj3E0TNKau"
      },
      "execution_count": 19,
      "outputs": []
    }
  ]
}